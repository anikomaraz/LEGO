{
 "cells": [
  {
   "cell_type": "markdown",
   "id": "11c2ea1d-9843-46e3-b97b-67f048544cd6",
   "metadata": {},
   "source": [
    "## this is a minimal example notebook"
   ]
  },
  {
   "cell_type": "code",
   "execution_count": 3,
   "id": "338a4d01-87f0-4ac4-bf3e-23ad722ff1c8",
   "metadata": {},
   "outputs": [
    {
     "name": "stdout",
     "output_type": "stream",
     "text": [
      "does this render?\n"
     ]
    }
   ],
   "source": [
    "print('does this render?')"
   ]
  },
  {
   "cell_type": "code",
   "execution_count": null,
   "id": "c7d0a179-45db-492d-96a3-9eef685b4828",
   "metadata": {},
   "outputs": [],
   "source": []
  }
 ],
 "metadata": {
  "kernelspec": {
   "display_name": "Python 3 (ipykernel)",
   "language": "python",
   "name": "python3"
  },
  "language_info": {
   "codemirror_mode": {
    "name": "ipython",
    "version": 3
   },
   "file_extension": ".py",
   "mimetype": "text/x-python",
   "name": "python",
   "nbconvert_exporter": "python",
   "pygments_lexer": "ipython3",
   "version": "3.10.12"
  }
 },
 "nbformat": 4,
 "nbformat_minor": 5
}
